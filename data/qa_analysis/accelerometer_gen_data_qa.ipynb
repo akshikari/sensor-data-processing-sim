{
 "cells": [
  {
   "cell_type": "markdown",
   "id": "589b7090-5063-4931-bf81-689afd051c7d",
   "metadata": {},
   "source": [
    "# Accelerometer Data QA & Analysis\n",
    "\n",
    "- This Notebook is primarily for assessing the quality and validity of the accelerometer generator data.\n",
    "- As the formulas used are just my best interpretation of the domain concepts and assume various ideal conditions, I figured it would be best to see how does this simulated data compare to real-world data using basic statistical analysis\n",
    "- This notebook will ignore the data generated and pushed to S3 because overall this project is just for learning purposes and the fewer (though very minor) Cloud usage-incurred costs the better."
   ]
  },
  {
   "cell_type": "code",
   "execution_count": null,
   "id": "7a830af1-9e41-48af-ba1c-7dfc7275c1b3",
   "metadata": {},
   "outputs": [],
   "source": [
    "# Imports\n",
    "import time\n",
    "from typing import Any\n",
    "from datetime import datetime, timezone, timedelta\n",
    "\n",
    "%matplotlib widget\n",
    "import matplotlib.pyplot as plt\n",
    "import matplotlib.dates as mdates\n",
    "import numpy as np\n",
    "import pandas as pd\n",
    "from scipy.fft import fft, fftfreq\n",
    "\n",
    "from generators.accelerometer import GenerateDataParams, generate_data"
   ]
  },
  {
   "cell_type": "markdown",
   "id": "482c5c8d-3390-4833-9968-69a7f7942ca0",
   "metadata": {},
   "source": [
    "## Generate Data\n",
    "- Generate partitioned data spread across several hours. The goal is to create a significant amount of data for testing purposes\n",
    "- Some assumptions here\n",
    "  - The quadriped is walking non-stop for the alloted time. Too messy to get into the business of simulating the robot coming to a stop and resuming walking\n",
    "  - For now, starting parameters (like amplitude, base, and phase values) will be random but within some range that feels reasonable. They will also be constant for the entire data set for simplicity's sake."
   ]
  },
  {
   "cell_type": "code",
   "execution_count": null,
   "id": "115a3eb5-52ba-41a3-9394-10d8e51a9bd8",
   "metadata": {},
   "outputs": [],
   "source": [
    "# Create Accelerometer parameters\n",
    "start_ts = datetime.now(timezone.utc)\n",
    "hours = 6  # Modify this as needed\n",
    "sample_frequency = 100 # Modify this as needed\n",
    "total_time = hours * 60 * 60\n",
    "\n",
    "params = GenerateDataParams()"
   ]
  },
  {
   "cell_type": "code",
   "execution_count": null,
   "id": "1ef666ab-a052-42df-8fd3-f26e4f73d0eb",
   "metadata": {},
   "outputs": [],
   "source": [
    "# Generate data and store in DataFrame\n",
    "data_gen_start_ts = time.perf_counter()\n",
    "data_df = generate_data(frequency=sample_frequency, total_time=total_time, start_time=start_ts, params=params)\n",
    "data_gen_duration = time.perf_counter() - data_gen_start_ts\n",
    "print(f\"Time to generate {len(data_df)} records: {data_gen_duration:.4f} seconds\")\n",
    "print(\"\\nDataFrame Info:\")\n",
    "data_df.info()"
   ]
  },
  {
   "cell_type": "markdown",
   "id": "a72ec407-8a7e-4bf0-b95d-080b871f0c97",
   "metadata": {},
   "source": [
    "## Visual Data Analysis\n",
    "- Just a simple visual confirmation that the data is following the desired sinusoidal pattern with acceptable levels of noise\n"
   ]
  },
  {
   "cell_type": "code",
   "execution_count": null,
   "id": "0e83c026-be8a-4fa1-bdf5-236f330d544f",
   "metadata": {},
   "outputs": [],
   "source": [
    "# Visual Data Analysis\n",
    "if \"data_df\" in locals() and not data_df.empty:\n",
    "    subset_df = data_df.iloc[:sample_frequency * 10]  # Just the first 10 seconds of data\n",
    "    plt.figure(figsize=(15,7))\n",
    "\n",
    "    plt.plot(subset_df[\"timestamp\"], subset_df[\"accel_x\"], label=\"Accel X\", color=\"red\", linewidth=1.5)\n",
    "    plt.plot(subset_df[\"timestamp\"], subset_df[\"accel_y\"], label=\"Accel Y\", color=\"blue\", linewidth=1.5)\n",
    "    plt.plot(subset_df[\"timestamp\"], subset_df[\"accel_z\"], label=\"Accel Z\", color=\"green\", linewidth=1.5)\n",
    "\n",
    "    plt.xlabel(\"Time\", fontsize=14)\n",
    "    plt.ylabel(\"Acceleration (m/s^2)\", fontsize=14)\n",
    "    plt.title(\"Simulated Accelerometer Data Over Time\", fontsize=16)\n",
    "    plt.legend(loc=\"upper right\", fontsize=12)\n",
    "    plt.xticks(rotation=45, ha=\"right\")\n",
    "    plt.gca().xaxis.set_major_formatter(mdates.DateFormatter('%Y-%m-%d %H:%M:%S'))\n",
    "    plt.gca().xaxis.set_major_locator(mdates.AutoDateLocator(minticks=5, maxticks=10))\n",
    "    plt.grid(True, which='both', linestyle='--', linewidth=0.5)\n",
    "    plt.tight_layout()\n",
    "    plt.show()\n",
    "else:\n",
    "    print(\"DataFrame 'data_df' is not defined or is empty. Please generate data first.\")"
   ]
  },
  {
   "cell_type": "markdown",
   "id": "b9b56f22-3541-4f47-af15-aac9195f6593",
   "metadata": {},
   "source": [
    "## Understanding the Visual Representation of Acceleration Vectors over Time\n",
    "- Assessing a subset of the data, it's clear to see that each of the acceleration vector's values over time achieve the attended goals of data simulator:\n",
    "  - All vectors follow a periodic, sinusoidal pattern aligning with the Simple Harmonic Motion (SHM) approximation used to model the oscillations (due to gait, bounce, sway, pitch, and roll) of a quadruped robot walking\n",
    "  - All vectors observe a consistent amount of simulated noise in the data (the \"shakiness\" of each of the lines), mimicking imperfections in real-world sensor readings\n",
    "  - All seem within tolerable ranges given the GenerateDataParams (in this case the default values for the parameters)\n",
    "  - The Z-axis acceleration values center around the constant gravity vector value of 9.8 m/s^2, and the X and Y-axis accelerations are centered around very small base_pitch and base_roll values.\n",
    "- Assuming several ideal conditions (traveling in one direction, walking on a flat plane, walking at constant speed, SHM, etc.) this data at first glance seems to provide a good qualitative representation of the readings of an accelerometer contained within a walking quadruped robot."
   ]
  },
  {
   "cell_type": "markdown",
   "id": "f495d85c-8e96-4c45-b3da-a23a8f684502",
   "metadata": {},
   "source": [
    "## Frequency Domain Analysis (FFT)\n",
    "- A very cool 3blue1brown video [here](https://www.youtube.com/watch?v=spUNpyF58BY) on Fourier Transforms\n",
    "- Motivation is to identify the dominent frequencies which should be the `gait_frequency` (and potentially its half for sway. See accelereometer.generate_data code) and its harmonics\n",
    "- This concept was (still kind of is) rather foreign to me so including several comments for later reference."
   ]
  },
  {
   "cell_type": "code",
   "execution_count": null,
   "id": "29d49338-75c4-47ac-b62d-fffdea6b7f8c",
   "metadata": {},
   "outputs": [],
   "source": [
    "if \"data_df\" in locals() and not data_df.empty:\n",
    "    fft_subset_duration = 10  # seconds\n",
    "    fft_samples = sample_frequency * fft_subset_duration\n",
    "    # Calculate Fourier Transform (FT) for just a small subset (first 10 seconds) of data.\n",
    "    fft_df = data_df.iloc[:fft_samples].copy()\n",
    "    if len(fft_df) >= 2:\n",
    "        T = 1.0 / sample_frequency  # Sample spacing, time in seconds between data records\n",
    "        N = len(fft_df)  # Number of sample points for FFT\n",
    "\n",
    "        signals = {\n",
    "            \"Accel X\": fft_df[\"accel_x\"].values,\n",
    "            \"Accel Y\": fft_df[\"accel_y\"].values,\n",
    "            \"Accel Z\": fft_df[\"accel_z\"].values\n",
    "        }\n",
    "\n",
    "        plt.figure(figsize=(15, 12))\n",
    "        plot_index = 1\n",
    "        for name, data in signals.items():\n",
    "            if N > 0 and len(data) == N:\n",
    "                # Get dataframe of FT complex numbers for input signals\n",
    "                yf = fft(data)\n",
    "                # Get the frequency bins that these complex numbers correspond to.\n",
    "                # Only care about the positive values here, hence filtering only to [:N//2] results\n",
    "                xf = fftfreq(N, T)[:N//2]\n",
    "\n",
    "                plt.subplot(3, 1, plot_index)\n",
    "                # 2.0/N - normalization factor where we multiply by 2 purely for visualization purposes,\n",
    "                # and divide by N to scale the amplitude to be independent of the signal length\n",
    "                # Complex numbers are kinda hard to visualize, so we take the absolute value\n",
    "                # Again, only want the positive frequencies so we do yf[0:N//2]\n",
    "                plt.plot(xf, 2.0/N * np.abs(yf[0:N//2]))\n",
    "                plt.title(f'Frequency Spectrum of {name}')\n",
    "                plt.xlabel('Frequency (Hz)')\n",
    "                plt.ylabel('Amplitude')\n",
    "                # Highlight expected gait frequency (from params object)\n",
    "                if params and hasattr(params, 'gait_frequency'):\n",
    "                    plt.axvline(params.gait_frequency, color='r', linestyle='--', label=f'Gait Freq: {params.gait_frequency:.2f} Hz')\n",
    "                    # For Accel Y, sway might be half the gait frequency based on our model\n",
    "                    if name == 'Accel Y' and (params.gait_frequency / 2) > 0:\n",
    "                         plt.axvline(params.gait_frequency / 2, color='m', linestyle=':', label=f'Sway Freq: {params.gait_frequency/2:.2f} Hz')\n",
    "                plt.legend()\n",
    "                plt.grid(True)\n",
    "                plot_index += 1\n",
    "            else:\n",
    "                 print(f\"Signal data for {name} is empty or length mismatch, skipping FFT. N={N}, len(data)={len(data)}\")\n",
    "\n",
    "        plt.tight_layout()\n",
    "        plt.show()\n",
    "    else:\n",
    "        print(\"Not enough samples in subset for FFT analysis.\")\n",
    "else:\n",
    "    print(\"Dataframe 'data_df' is not defined or is empty for FFT analysis.\")"
   ]
  },
  {
   "cell_type": "markdown",
   "id": "2e7a8e96-f2d1-4832-917d-6ce1e3e357c3",
   "metadata": {},
   "source": [
    "## Understanding the Fourier Transform Plots\n",
    "- The X axis represents all the different frequencies that the FFT analyzed\n",
    "- The Y axis represents the \"magnitude\" of each frequency component found in the input signal. The taller the value, the more the input signal contained strong sine wave-like oscillation at that particular frequency.\n",
    "- Essentially this process is asking the question of \"How much do these signals (X, Y, Z acceleration) look like a 0.1 Hz sine wave? How about a 0.2 Hz sine wave? 2 Hz (our gait frequency)?\" and the peaks represent how strongly the signals represent those frequencies.\n",
    "- Frequency Spectrum of X-Axis Acceleration:\n",
    "  - The peak at 2.0 Hz strongly suggests the X-axis acceleration is influenced by the front-to-back pitching motion\n",
    "  - The peak near 0 Hz corresponds to the non-zero base_pitch value\n",
    "- Frequency Spectrum of Y-Axis Acceleration:\n",
    "  - Peak at 1.0 Hz: In the SHM model code, `omega_sway = 2 * np.pi * (gait_frequency / 2)` which means the sway frequency is half the gait frequency of 2.0 Hz. This corresponds to the side-to-side motion\n",
    "  - Smaller Peak at 2.0 Hz: A harmonic. In a real-world scenario, This could becaues the pitching and rolling motion mighth have components that project onto the Y-axis of the sensor\n",
    "- Frequency Spectrum of Z-Axis Acceleration:\n",
    "  - Large peak at 0 Hz: Represents the avereage value of the signal, which in this case is the constant effect of gravity (+9,81 m/s^2)\n",
    "  - Peak at 2.0 Hz: This corresponds with the gait frequency and involves the \"bounce\" component.\n",
    "- Ultimately, the FFT analysis confirms that the intended frequencies are indeed present in the output acceleration values and that there are not unexpected dominant frequencies present. The relative strengths (amplitudes) of the signals also tells us how much of a roll each component plays."
   ]
  }
 ],
 "metadata": {
  "kernelspec": {
   "display_name": "Python 3 (ipykernel)",
   "language": "python",
   "name": "python3"
  },
  "language_info": {
   "codemirror_mode": {
    "name": "ipython",
    "version": 3
   },
   "file_extension": ".py",
   "mimetype": "text/x-python",
   "name": "python",
   "nbconvert_exporter": "python",
   "pygments_lexer": "ipython3",
   "version": "3.12.6"
  }
 },
 "nbformat": 4,
 "nbformat_minor": 5
}
